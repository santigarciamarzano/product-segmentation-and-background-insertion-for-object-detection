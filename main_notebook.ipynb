{
 "cells": [
  {
   "cell_type": "markdown",
   "metadata": {},
   "source": [
    "## Extracción de Frames de Videos"
   ]
  },
  {
   "cell_type": "markdown",
   "metadata": {},
   "source": [
    "Modificar la ruta de entrada del video del producto requerido y guardar las imagenes en la carpeta de la clase de salida que se prefiera"
   ]
  },
  {
   "cell_type": "code",
   "execution_count": null,
   "metadata": {},
   "outputs": [],
   "source": [
    "from projects.process_videos import process_videos_from_folder\n",
    "\n",
    "video_folder = '/media/minigo/Disco/modelado3d/santiago/codigos/image_generator_2/data/videos'\n",
    "base_output_folder = '/media/minigo/Disco/modelado3d/santiago/codigos/image_generator_2/data/images'\n",
    "num_frames = 10  # numero de frames a extraer\n",
    "interval = None  # intervalo entre frames\n",
    "\n",
    "process_videos_from_folder(video_folder, base_output_folder, num_frames, interval)\n"
   ]
  },
  {
   "cell_type": "markdown",
   "metadata": {},
   "source": [
    "## Segmentación de imágenes"
   ]
  },
  {
   "cell_type": "markdown",
   "metadata": {},
   "source": [
    "Se segmentan los productos de los frames extraidos del video y se guardan en diferentes clases en su carpeta correspondiente"
   ]
  },
  {
   "cell_type": "code",
   "execution_count": null,
   "metadata": {},
   "outputs": [],
   "source": [
    "from projects.segment_images import main as segment_images_main\n",
    "import os\n",
    "\n",
    "input_base_folder = '/media/minigo/Disco/modelado3d/santiago/codigos/image_generator_2/data/images'\n",
    "output_base_folder = '/media/minigo/Disco/modelado3d/santiago/codigos/image_generator_2/data/segment_images'\n",
    "\n",
    "for class_folder in os.listdir(input_base_folder):\n",
    "    input_folder = os.path.join(input_base_folder, class_folder)\n",
    "    output_folder = os.path.join(output_base_folder, class_folder)\n",
    "    segment_images_main(input_folder, output_folder)\n"
   ]
  },
  {
   "cell_type": "markdown",
   "metadata": {},
   "source": [
    "## Combinación de imágenes segmentadas con fondos y creación de archivos .txt"
   ]
  },
  {
   "cell_type": "markdown",
   "metadata": {},
   "source": [
    "Las imágenes segmentadas son combinadas con los fondos guardados en la carpeta correspondiente. A su vez, guarda las coordenadas de la imagen segmentada en el fondo para conformar un archivo .txt en formato COCO para la utilizaciòn directa en un modelo de entrenamiento"
   ]
  },
  {
   "cell_type": "code",
   "execution_count": null,
   "metadata": {},
   "outputs": [],
   "source": [
    "from projects.combine_images import combine_images\n",
    "\n",
    "output_folder_segmented = '/media/minigo/Disco/modelado3d/santiago/codigos/image_generator_2/data/segment_images'\n",
    "background_folder = '/media/minigo/Disco/modelado3d/santiago/codigos/image_generator_2/data/backgrounds'\n",
    "output_folder_final = '/media/minigo/Disco/modelado3d/santiago/codigos/image_generator_2/data/imagen_final'\n",
    "label_folder = '/media/minigo/Disco/modelado3d/santiago/codigos/image_generator_2/data/labels'\n",
    "\n",
    "combine_images(output_folder_segmented, background_folder, output_folder_final, label_folder)"
   ]
  },
  {
   "cell_type": "markdown",
   "metadata": {},
   "source": [
    "## Verificación de BoundingBox"
   ]
  },
  {
   "cell_type": "markdown",
   "metadata": {},
   "source": [
    "Puede seleccionar la cantidad de imagenes que se quieran evaluar para revisar el correcto etuiquetado de las imagenes"
   ]
  },
  {
   "cell_type": "code",
   "execution_count": 3,
   "metadata": {},
   "outputs": [],
   "source": [
    "from projects.verify_bboxes import verify_bounding_boxes\n",
    "\n",
    "output_folder_final = '/media/minigo/Disco/modelado3d/santiago/codigos/image_generator_2/data/imagen_final'\n",
    "labels_folder = '/media/minigo/Disco/modelado3d/santiago/codigos/image_generator_2/data/labels'\n",
    "evaluation_folder = '/media/minigo/Disco/modelado3d/santiago/codigos/image_generator_2/data/evaluated'\n",
    "num_images_to_evaluate = 5\n",
    "\n",
    "verify_bounding_boxes(output_folder_final, labels_folder, evaluation_folder, num_images_to_evaluate)"
   ]
  }
 ],
 "metadata": {
  "kernelspec": {
   "display_name": "python3.10",
   "language": "python",
   "name": "python3"
  },
  "language_info": {
   "codemirror_mode": {
    "name": "ipython",
    "version": 3
   },
   "file_extension": ".py",
   "mimetype": "text/x-python",
   "name": "python",
   "nbconvert_exporter": "python",
   "pygments_lexer": "ipython3",
   "version": "3.10.14"
  }
 },
 "nbformat": 4,
 "nbformat_minor": 2
}
